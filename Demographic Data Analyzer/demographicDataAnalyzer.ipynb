{
 "cells": [
  {
   "cell_type": "markdown",
   "id": "04ec5941-8aca-49be-94ef-03da12b51bc6",
   "metadata": {},
   "source": [
    "# Demographic Data Analyzer"
   ]
  },
  {
   "cell_type": "markdown",
   "id": "80f50102-47b5-424d-8467-b6327e431427",
   "metadata": {},
   "source": [
    "### In this challenge you must analyze demographic data using Pandas. You are given a dataset of demographic data that was extracted from the 1994 Census database"
   ]
  },
  {
   "cell_type": "code",
   "execution_count": 1,
   "id": "e67edbd7-63ce-48a1-a018-58249cfa32f4",
   "metadata": {},
   "outputs": [],
   "source": [
    "# importing libs\n",
    "import pandas as pd\n",
    "import seaborn as sns\n",
    "import matplotlib.pyplot as plt"
   ]
  },
  {
   "cell_type": "code",
   "execution_count": 5,
   "id": "270ca08c-c3dd-43a9-98d8-af6d3dde3c8f",
   "metadata": {},
   "outputs": [
    {
     "data": {
      "text/html": [
       "<div>\n",
       "<style scoped>\n",
       "    .dataframe tbody tr th:only-of-type {\n",
       "        vertical-align: middle;\n",
       "    }\n",
       "\n",
       "    .dataframe tbody tr th {\n",
       "        vertical-align: top;\n",
       "    }\n",
       "\n",
       "    .dataframe thead th {\n",
       "        text-align: right;\n",
       "    }\n",
       "</style>\n",
       "<table border=\"1\" class=\"dataframe\">\n",
       "  <thead>\n",
       "    <tr style=\"text-align: right;\">\n",
       "      <th></th>\n",
       "      <th>age</th>\n",
       "      <th>workclass</th>\n",
       "      <th>fnlwgt</th>\n",
       "      <th>education</th>\n",
       "      <th>education-num</th>\n",
       "      <th>marital-status</th>\n",
       "      <th>occupation</th>\n",
       "      <th>relationship</th>\n",
       "      <th>race</th>\n",
       "      <th>sex</th>\n",
       "      <th>capital-gain</th>\n",
       "      <th>capital-loss</th>\n",
       "      <th>hours-per-week</th>\n",
       "      <th>native-country</th>\n",
       "      <th>salary</th>\n",
       "    </tr>\n",
       "  </thead>\n",
       "  <tbody>\n",
       "    <tr>\n",
       "      <th>0</th>\n",
       "      <td>39</td>\n",
       "      <td>State-gov</td>\n",
       "      <td>77516</td>\n",
       "      <td>Bachelors</td>\n",
       "      <td>13</td>\n",
       "      <td>Never-married</td>\n",
       "      <td>Adm-clerical</td>\n",
       "      <td>Not-in-family</td>\n",
       "      <td>White</td>\n",
       "      <td>Male</td>\n",
       "      <td>2174</td>\n",
       "      <td>0</td>\n",
       "      <td>40</td>\n",
       "      <td>United-States</td>\n",
       "      <td>&lt;=50K</td>\n",
       "    </tr>\n",
       "    <tr>\n",
       "      <th>1</th>\n",
       "      <td>50</td>\n",
       "      <td>Self-emp-not-inc</td>\n",
       "      <td>83311</td>\n",
       "      <td>Bachelors</td>\n",
       "      <td>13</td>\n",
       "      <td>Married-civ-spouse</td>\n",
       "      <td>Exec-managerial</td>\n",
       "      <td>Husband</td>\n",
       "      <td>White</td>\n",
       "      <td>Male</td>\n",
       "      <td>0</td>\n",
       "      <td>0</td>\n",
       "      <td>13</td>\n",
       "      <td>United-States</td>\n",
       "      <td>&lt;=50K</td>\n",
       "    </tr>\n",
       "    <tr>\n",
       "      <th>2</th>\n",
       "      <td>38</td>\n",
       "      <td>Private</td>\n",
       "      <td>215646</td>\n",
       "      <td>HS-grad</td>\n",
       "      <td>9</td>\n",
       "      <td>Divorced</td>\n",
       "      <td>Handlers-cleaners</td>\n",
       "      <td>Not-in-family</td>\n",
       "      <td>White</td>\n",
       "      <td>Male</td>\n",
       "      <td>0</td>\n",
       "      <td>0</td>\n",
       "      <td>40</td>\n",
       "      <td>United-States</td>\n",
       "      <td>&lt;=50K</td>\n",
       "    </tr>\n",
       "    <tr>\n",
       "      <th>3</th>\n",
       "      <td>53</td>\n",
       "      <td>Private</td>\n",
       "      <td>234721</td>\n",
       "      <td>11th</td>\n",
       "      <td>7</td>\n",
       "      <td>Married-civ-spouse</td>\n",
       "      <td>Handlers-cleaners</td>\n",
       "      <td>Husband</td>\n",
       "      <td>Black</td>\n",
       "      <td>Male</td>\n",
       "      <td>0</td>\n",
       "      <td>0</td>\n",
       "      <td>40</td>\n",
       "      <td>United-States</td>\n",
       "      <td>&lt;=50K</td>\n",
       "    </tr>\n",
       "    <tr>\n",
       "      <th>4</th>\n",
       "      <td>28</td>\n",
       "      <td>Private</td>\n",
       "      <td>338409</td>\n",
       "      <td>Bachelors</td>\n",
       "      <td>13</td>\n",
       "      <td>Married-civ-spouse</td>\n",
       "      <td>Prof-specialty</td>\n",
       "      <td>Wife</td>\n",
       "      <td>Black</td>\n",
       "      <td>Female</td>\n",
       "      <td>0</td>\n",
       "      <td>0</td>\n",
       "      <td>40</td>\n",
       "      <td>Cuba</td>\n",
       "      <td>&lt;=50K</td>\n",
       "    </tr>\n",
       "  </tbody>\n",
       "</table>\n",
       "</div>"
      ],
      "text/plain": [
       "   age         workclass  fnlwgt  education  education-num  \\\n",
       "0   39         State-gov   77516  Bachelors             13   \n",
       "1   50  Self-emp-not-inc   83311  Bachelors             13   \n",
       "2   38           Private  215646    HS-grad              9   \n",
       "3   53           Private  234721       11th              7   \n",
       "4   28           Private  338409  Bachelors             13   \n",
       "\n",
       "       marital-status         occupation   relationship   race     sex  \\\n",
       "0       Never-married       Adm-clerical  Not-in-family  White    Male   \n",
       "1  Married-civ-spouse    Exec-managerial        Husband  White    Male   \n",
       "2            Divorced  Handlers-cleaners  Not-in-family  White    Male   \n",
       "3  Married-civ-spouse  Handlers-cleaners        Husband  Black    Male   \n",
       "4  Married-civ-spouse     Prof-specialty           Wife  Black  Female   \n",
       "\n",
       "   capital-gain  capital-loss  hours-per-week native-country salary  \n",
       "0          2174             0              40  United-States  <=50K  \n",
       "1             0             0              13  United-States  <=50K  \n",
       "2             0             0              40  United-States  <=50K  \n",
       "3             0             0              40  United-States  <=50K  \n",
       "4             0             0              40           Cuba  <=50K  "
      ]
     },
     "execution_count": 5,
     "metadata": {},
     "output_type": "execute_result"
    }
   ],
   "source": [
    "df = pd.read_csv('../FCC Demographic Data Analyzer/adult.data.csv')\n",
    "df.head()"
   ]
  },
  {
   "cell_type": "markdown",
   "id": "77384361-7ae4-48f0-9694-77edc6d01577",
   "metadata": {},
   "source": [
    "## Inspecting Dataset"
   ]
  },
  {
   "cell_type": "code",
   "execution_count": 7,
   "id": "dcc965fb-8c39-4dd2-8a2e-439442337e6f",
   "metadata": {},
   "outputs": [
    {
     "name": "stdout",
     "output_type": "stream",
     "text": [
      "<class 'pandas.core.frame.DataFrame'>\n",
      "RangeIndex: 32561 entries, 0 to 32560\n",
      "Data columns (total 15 columns):\n",
      " #   Column          Non-Null Count  Dtype \n",
      "---  ------          --------------  ----- \n",
      " 0   age             32561 non-null  int64 \n",
      " 1   workclass       32561 non-null  object\n",
      " 2   fnlwgt          32561 non-null  int64 \n",
      " 3   education       32561 non-null  object\n",
      " 4   education-num   32561 non-null  int64 \n",
      " 5   marital-status  32561 non-null  object\n",
      " 6   occupation      32561 non-null  object\n",
      " 7   relationship    32561 non-null  object\n",
      " 8   race            32561 non-null  object\n",
      " 9   sex             32561 non-null  object\n",
      " 10  capital-gain    32561 non-null  int64 \n",
      " 11  capital-loss    32561 non-null  int64 \n",
      " 12  hours-per-week  32561 non-null  int64 \n",
      " 13  native-country  32561 non-null  object\n",
      " 14  salary          32561 non-null  object\n",
      "dtypes: int64(6), object(9)\n",
      "memory usage: 3.7+ MB\n"
     ]
    }
   ],
   "source": [
    "df.info()"
   ]
  },
  {
   "cell_type": "code",
   "execution_count": 8,
   "id": "f7a620df-83fd-4d46-976d-afa5efec3d78",
   "metadata": {},
   "outputs": [
    {
     "data": {
      "text/plain": [
       "(32561, 15)"
      ]
     },
     "execution_count": 8,
     "metadata": {},
     "output_type": "execute_result"
    }
   ],
   "source": [
    "df.shape"
   ]
  },
  {
   "cell_type": "code",
   "execution_count": 9,
   "id": "289c8911-5d04-42f9-8498-0efab18ff8f4",
   "metadata": {},
   "outputs": [
    {
     "data": {
      "text/plain": [
       "Index(['age', 'workclass', 'fnlwgt', 'education', 'education-num',\n",
       "       'marital-status', 'occupation', 'relationship', 'race', 'sex',\n",
       "       'capital-gain', 'capital-loss', 'hours-per-week', 'native-country',\n",
       "       'salary'],\n",
       "      dtype='object')"
      ]
     },
     "execution_count": 9,
     "metadata": {},
     "output_type": "execute_result"
    }
   ],
   "source": [
    "df.columns"
   ]
  },
  {
   "cell_type": "code",
   "execution_count": 10,
   "id": "2bbab730-892f-4be9-ae9e-ea259777d658",
   "metadata": {},
   "outputs": [
    {
     "data": {
      "text/html": [
       "<div>\n",
       "<style scoped>\n",
       "    .dataframe tbody tr th:only-of-type {\n",
       "        vertical-align: middle;\n",
       "    }\n",
       "\n",
       "    .dataframe tbody tr th {\n",
       "        vertical-align: top;\n",
       "    }\n",
       "\n",
       "    .dataframe thead th {\n",
       "        text-align: right;\n",
       "    }\n",
       "</style>\n",
       "<table border=\"1\" class=\"dataframe\">\n",
       "  <thead>\n",
       "    <tr style=\"text-align: right;\">\n",
       "      <th></th>\n",
       "      <th>age</th>\n",
       "      <th>fnlwgt</th>\n",
       "      <th>education-num</th>\n",
       "      <th>capital-gain</th>\n",
       "      <th>capital-loss</th>\n",
       "      <th>hours-per-week</th>\n",
       "    </tr>\n",
       "  </thead>\n",
       "  <tbody>\n",
       "    <tr>\n",
       "      <th>count</th>\n",
       "      <td>32561.000000</td>\n",
       "      <td>3.256100e+04</td>\n",
       "      <td>32561.000000</td>\n",
       "      <td>32561.000000</td>\n",
       "      <td>32561.000000</td>\n",
       "      <td>32561.000000</td>\n",
       "    </tr>\n",
       "    <tr>\n",
       "      <th>mean</th>\n",
       "      <td>38.581647</td>\n",
       "      <td>1.897784e+05</td>\n",
       "      <td>10.080679</td>\n",
       "      <td>1077.648844</td>\n",
       "      <td>87.303830</td>\n",
       "      <td>40.437456</td>\n",
       "    </tr>\n",
       "    <tr>\n",
       "      <th>std</th>\n",
       "      <td>13.640433</td>\n",
       "      <td>1.055500e+05</td>\n",
       "      <td>2.572720</td>\n",
       "      <td>7385.292085</td>\n",
       "      <td>402.960219</td>\n",
       "      <td>12.347429</td>\n",
       "    </tr>\n",
       "    <tr>\n",
       "      <th>min</th>\n",
       "      <td>17.000000</td>\n",
       "      <td>1.228500e+04</td>\n",
       "      <td>1.000000</td>\n",
       "      <td>0.000000</td>\n",
       "      <td>0.000000</td>\n",
       "      <td>1.000000</td>\n",
       "    </tr>\n",
       "    <tr>\n",
       "      <th>25%</th>\n",
       "      <td>28.000000</td>\n",
       "      <td>1.178270e+05</td>\n",
       "      <td>9.000000</td>\n",
       "      <td>0.000000</td>\n",
       "      <td>0.000000</td>\n",
       "      <td>40.000000</td>\n",
       "    </tr>\n",
       "    <tr>\n",
       "      <th>50%</th>\n",
       "      <td>37.000000</td>\n",
       "      <td>1.783560e+05</td>\n",
       "      <td>10.000000</td>\n",
       "      <td>0.000000</td>\n",
       "      <td>0.000000</td>\n",
       "      <td>40.000000</td>\n",
       "    </tr>\n",
       "    <tr>\n",
       "      <th>75%</th>\n",
       "      <td>48.000000</td>\n",
       "      <td>2.370510e+05</td>\n",
       "      <td>12.000000</td>\n",
       "      <td>0.000000</td>\n",
       "      <td>0.000000</td>\n",
       "      <td>45.000000</td>\n",
       "    </tr>\n",
       "    <tr>\n",
       "      <th>max</th>\n",
       "      <td>90.000000</td>\n",
       "      <td>1.484705e+06</td>\n",
       "      <td>16.000000</td>\n",
       "      <td>99999.000000</td>\n",
       "      <td>4356.000000</td>\n",
       "      <td>99.000000</td>\n",
       "    </tr>\n",
       "  </tbody>\n",
       "</table>\n",
       "</div>"
      ],
      "text/plain": [
       "                age        fnlwgt  education-num  capital-gain  capital-loss  \\\n",
       "count  32561.000000  3.256100e+04   32561.000000  32561.000000  32561.000000   \n",
       "mean      38.581647  1.897784e+05      10.080679   1077.648844     87.303830   \n",
       "std       13.640433  1.055500e+05       2.572720   7385.292085    402.960219   \n",
       "min       17.000000  1.228500e+04       1.000000      0.000000      0.000000   \n",
       "25%       28.000000  1.178270e+05       9.000000      0.000000      0.000000   \n",
       "50%       37.000000  1.783560e+05      10.000000      0.000000      0.000000   \n",
       "75%       48.000000  2.370510e+05      12.000000      0.000000      0.000000   \n",
       "max       90.000000  1.484705e+06      16.000000  99999.000000   4356.000000   \n",
       "\n",
       "       hours-per-week  \n",
       "count    32561.000000  \n",
       "mean        40.437456  \n",
       "std         12.347429  \n",
       "min          1.000000  \n",
       "25%         40.000000  \n",
       "50%         40.000000  \n",
       "75%         45.000000  \n",
       "max         99.000000  "
      ]
     },
     "execution_count": 10,
     "metadata": {},
     "output_type": "execute_result"
    }
   ],
   "source": [
    "df.describe()"
   ]
  },
  {
   "cell_type": "markdown",
   "id": "685c7274-ad81-43b6-b822-4069ba9393ba",
   "metadata": {},
   "source": [
    "## CHeck for missing values"
   ]
  },
  {
   "cell_type": "code",
   "execution_count": 12,
   "id": "5ff6936c-02fc-4253-be6f-8347426c1029",
   "metadata": {},
   "outputs": [
    {
     "data": {
      "text/plain": [
       "age               0\n",
       "workclass         0\n",
       "fnlwgt            0\n",
       "education         0\n",
       "education-num     0\n",
       "marital-status    0\n",
       "occupation        0\n",
       "relationship      0\n",
       "race              0\n",
       "sex               0\n",
       "capital-gain      0\n",
       "capital-loss      0\n",
       "hours-per-week    0\n",
       "native-country    0\n",
       "salary            0\n",
       "dtype: int64"
      ]
     },
     "execution_count": 12,
     "metadata": {},
     "output_type": "execute_result"
    }
   ],
   "source": [
    "df.isna().sum() # no missing values. "
   ]
  },
  {
   "cell_type": "code",
   "execution_count": 16,
   "id": "cbd93199-91cc-4f2f-845e-5465a417387c",
   "metadata": {},
   "outputs": [
    {
     "data": {
      "text/plain": [
       "age                  73\n",
       "workclass             9\n",
       "fnlwgt            21648\n",
       "education            16\n",
       "education-num        16\n",
       "marital-status        7\n",
       "occupation           15\n",
       "relationship          6\n",
       "race                  5\n",
       "sex                   2\n",
       "capital-gain        119\n",
       "capital-loss         92\n",
       "hours-per-week       94\n",
       "native-country       42\n",
       "salary                2\n",
       "dtype: int64"
      ]
     },
     "execution_count": 16,
     "metadata": {},
     "output_type": "execute_result"
    }
   ],
   "source": [
    "# Lets check unique values in some variables\n",
    "df.nunique()\n",
    "# I dont know \"fnlwgt\" is. Im gonna drop it. "
   ]
  },
  {
   "cell_type": "markdown",
   "id": "fe46c342-7c92-4eac-9c03-0bce42a259bb",
   "metadata": {},
   "source": [
    "## Feature Engineering and Questions"
   ]
  },
  {
   "cell_type": "markdown",
   "id": "22138dd1-9ea5-4d8f-84f9-ebe6962cd013",
   "metadata": {},
   "source": [
    "* How many people of each race are represented in this dataset? This should be a Pandas series with race names as the index labels. (`race` column)\n",
    "* What is the average age of men?\n",
    "* What is the percentage of people who have a Bachelor's degree?\n",
    "* What percentage of people with advanced education (`Bachelors`, `Masters`, or `Doctorate`) make more than 50K?\n",
    "* What percentage of people without advanced education make more than 50K?\n",
    "* What is the minimum number of hours a person works per week?\n",
    "* What percentage of the people who work the minimum number of hours per week have a salary of more than 50K?\n",
    "* What country has the highest percentage of people that earn >50K and what is that percentage?\n",
    "* Identify the most popular occupation for those who earn >50K in India. "
   ]
  },
  {
   "cell_type": "markdown",
   "id": "8740e983-889f-4bcd-8d83-ecdc7eeee051",
   "metadata": {
    "jp-MarkdownHeadingCollapsed": true
   },
   "source": [
    "### How many people of each race are represented in this dataset? This should be a Pandas series with race names as the index labels. (race column)"
   ]
  },
  {
   "cell_type": "code",
   "execution_count": 35,
   "id": "1159025f-ff7a-485a-b0ba-3ba77ac573d2",
   "metadata": {},
   "outputs": [
    {
     "data": {
      "text/plain": [
       "race\n",
       "Amer-Indian-Eskimo      311\n",
       "Asian-Pac-Islander     1039\n",
       "Black                  3124\n",
       "Other                   271\n",
       "White                 27816\n",
       "Name: count, dtype: int64"
      ]
     },
     "execution_count": 35,
     "metadata": {},
     "output_type": "execute_result"
    }
   ],
   "source": [
    "Race_represented = df.groupby('race')['race'].value_counts()\n",
    "Race_represented"
   ]
  },
  {
   "cell_type": "code",
   "execution_count": 43,
   "id": "faa96f40-7863-488c-8568-1af84d7129f6",
   "metadata": {},
   "outputs": [
    {
     "name": "stderr",
     "output_type": "stream",
     "text": [
      "C:\\Users\\elian\\AppData\\Local\\Temp\\ipykernel_7676\\1086425025.py:3: FutureWarning: \n",
      "\n",
      "Passing `palette` without assigning `hue` is deprecated and will be removed in v0.14.0. Assign the `x` variable to `hue` and set `legend=False` for the same effect.\n",
      "\n",
      "  sns.barplot(Race_represented, palette='Set2')\n"
     ]
    },
    {
     "data": {
      "image/png": "[encoded data removed]",
      "text/plain": [
       "<Figure size 1200x600 with 1 Axes>"
      ]
     },
     "metadata": {},
     "output_type": "display_data"
    }
   ],
   "source": [
    "# lets plot a chart for this\n",
    "plt.figure(figsize=(12,6))\n",
    "sns.barplot(Race_represented, palette='Set2')\n",
    "plt.show()"
   ]
  },
  {
   "cell_type": "markdown",
   "id": "799665ae-ad4b-4735-96ea-fd1fb37e699c",
   "metadata": {
    "jp-MarkdownHeadingCollapsed": true
   },
   "source": [
    "### What is the average age of men?"
   ]
  },
  {
   "cell_type": "code",
   "execution_count": 59,
   "id": "7fd111ec-6a1d-4280-959e-ce44981e8d2b",
   "metadata": {},
   "outputs": [
    {
     "data": {
      "text/plain": [
       "39.43354749885268"
      ]
     },
     "execution_count": 59,
     "metadata": {},
     "output_type": "execute_result"
    }
   ],
   "source": [
    "average_age_men = df.groupby('sex')['age'].mean()\n",
    "average_age_men.iloc[1] ## Average Age of Men = 39.43354749885268"
   ]
  },
  {
   "cell_type": "markdown",
   "id": "2fbaecdf-075f-4ec7-b8ed-143de3f5fda7",
   "metadata": {
    "jp-MarkdownHeadingCollapsed": true
   },
   "source": [
    "### What is the percentage of people who have a Bachelor's degree?"
   ]
  },
  {
   "cell_type": "code",
   "execution_count": 73,
   "id": "7aae549b-42f2-49eb-9483-01b9f0811e00",
   "metadata": {},
   "outputs": [
    {
     "data": {
      "text/plain": [
       "16.45"
      ]
     },
     "execution_count": 73,
     "metadata": {},
     "output_type": "execute_result"
    }
   ],
   "source": [
    "percentage_bachelors_holders = round((df.loc[df['education'] == 'Bachelors', 'education'].count() / len(df)) * 100, 2)\n",
    "percentage_bachelors_holders # 16.45 % of people on this dataset are bachelors holders"
   ]
  },
  {
   "cell_type": "markdown",
   "id": "fc1f0c32-ca74-4a49-93ab-edad3cda0060",
   "metadata": {
    "jp-MarkdownHeadingCollapsed": true
   },
   "source": [
    "### What percentage of people with advanced education (Bachelors, Masters, or Doctorate) make more than 50K?"
   ]
  },
  {
   "cell_type": "code",
   "execution_count": 113,
   "id": "8c3063d7-5f31-4cf0-965a-e407f3136c70",
   "metadata": {},
   "outputs": [
    {
     "data": {
      "text/plain": [
       "46.54"
      ]
     },
     "execution_count": 113,
     "metadata": {},
     "output_type": "execute_result"
    }
   ],
   "source": [
    "# Filter the DataFrame for rows where education level is Bachelor's, Master's, or Doctorate\n",
    "advanced_education_df  = df[df['education'].isin(['Bachelors', 'Masters', 'Doctorate'])]\n",
    "\n",
    "# Count the occurrences of individuals making more than 50K\n",
    "advanced_high_income_count = (advanced_education_df['salary'] == '>50K').sum()\n",
    "percentage_advanced_education = round((advanced_high_income_count / len(advanced_education_df)) * 100,2)\n",
    "percentage_advanced_education  # 46.54% of people with advanced education make more than 50k"
   ]
  },
  {
   "cell_type": "markdown",
   "id": "2c348432-9bc1-402f-8ca5-0d1704fc2150",
   "metadata": {
    "jp-MarkdownHeadingCollapsed": true
   },
   "source": [
    "### What percentage of people without advanced education make more than 50K?"
   ]
  },
  {
   "cell_type": "code",
   "execution_count": 112,
   "id": "0aca30a5-720b-4dff-aac3-bb020130fdf2",
   "metadata": {},
   "outputs": [
    {
     "data": {
      "text/plain": [
       "17.37"
      ]
     },
     "execution_count": 112,
     "metadata": {},
     "output_type": "execute_result"
    }
   ],
   "source": [
    "# Filter the DataFrame for rows where education level is Bachelor's, Master's, or Doctorate\n",
    "advanced_education_df  = df[~df['education'].isin(['Bachelors', 'Masters', 'Doctorate'])]\n",
    "advanced_education_df\n",
    "\n",
    "# Count the occurrences of individuals making more than 50K\n",
    "advanced_high_income_count = (advanced_education_df['salary'] == '>50K').sum()\n",
    "percentage_advanced_education = round((advanced_high_income_count / len(advanced_education_df)) * 100,2)\n",
    "percentage_advanced_education  # 17.37% of people without advanced education make more than 50k"
   ]
  },
  {
   "cell_type": "markdown",
   "id": "143a59ce-4934-4afa-87d6-fc4ae0ae5803",
   "metadata": {
    "jp-MarkdownHeadingCollapsed": true
   },
   "source": [
    "### What is the minimum number of hours a person works per week?"
   ]
  },
  {
   "cell_type": "code",
   "execution_count": 129,
   "id": "ee52a247-a70e-4984-91d4-8fc34b4c82d5",
   "metadata": {},
   "outputs": [],
   "source": [
    "Minimum_hours_person_week = df['hours-per-week'].min() # 1"
   ]
  },
  {
   "cell_type": "markdown",
   "id": "81648f5c-0459-4e29-b275-5c498b80c5ed",
   "metadata": {
    "jp-MarkdownHeadingCollapsed": true
   },
   "source": [
    "### What percentage of the people who work the minimum number of hours per week have a salary of more than 50K?"
   ]
  },
  {
   "cell_type": "code",
   "execution_count": 128,
   "id": "dea0e0f6-552e-464e-b54d-e251cac6549e",
   "metadata": {},
   "outputs": [
    {
     "data": {
      "text/plain": [
       "10.0"
      ]
     },
     "execution_count": 128,
     "metadata": {},
     "output_type": "execute_result"
    }
   ],
   "source": [
    "# filter out people who work minimum hours per week\n",
    "people_work_minimum_hours = df[df['hours-per-week'] == Minimum_hours_person_week] \n",
    "\n",
    "# count occurances of these people making more than 50k\n",
    "people_minimum_hours_50k = (people_work_minimum_hours['salary'] == '>50K').sum()\n",
    "\n",
    "final = round((people_minimum_hours_50k / len(people_work_minimum_hours)) * 100, 2)\n",
    "final # 10.0 of the people who work the minimum number of hours per week have a salary of more than 50K"
   ]
  },
  {
   "cell_type": "markdown",
   "id": "d05f35ee-01bd-4dcf-86b8-47f5f7a68f9d",
   "metadata": {
    "jp-MarkdownHeadingCollapsed": true
   },
   "source": [
    "### What country has the highest percentage of people that earn >50K and what is that percentage?"
   ]
  },
  {
   "cell_type": "code",
   "execution_count": 169,
   "id": "b0ac9395-ba84-4fb1-8188-7a99988085f5",
   "metadata": {},
   "outputs": [
    {
     "data": {
      "text/plain": [
       "native-country\n",
       "United-States         91.455172\n",
       "Philippines            0.777962\n",
       "Germany                0.561153\n",
       "India                  0.510139\n",
       "Canada                 0.497386\n",
       "Mexico                 0.420865\n",
       "England                0.382604\n",
       "Italy                  0.318837\n",
       "Cuba                   0.318837\n",
       "Japan                  0.306083\n",
       "Taiwan                 0.255070\n",
       "China                  0.255070\n",
       "Iran                   0.229563\n",
       "South                  0.204056\n",
       "France                 0.153042\n",
       "Puerto-Rico            0.153042\n",
       "Poland                 0.153042\n",
       "Jamaica                0.127535\n",
       "El-Salvador            0.114781\n",
       "Greece                 0.102028\n",
       "Cambodia               0.089274\n",
       "Yugoslavia             0.076521\n",
       "Hong                   0.076521\n",
       "Ireland                0.063767\n",
       "Vietnam                0.063767\n",
       "Ecuador                0.051014\n",
       "Haiti                  0.051014\n",
       "Portugal               0.051014\n",
       "Scotland               0.038260\n",
       "Thailand               0.038260\n",
       "Hungary                0.038260\n",
       "Guatemala              0.038260\n",
       "Laos                   0.025507\n",
       "Dominican-Republic     0.025507\n",
       "Peru                   0.025507\n",
       "Trinadad&Tobago        0.025507\n",
       "Columbia               0.025507\n",
       "Nicaragua              0.025507\n",
       "Honduras               0.012753\n",
       "Name: count, dtype: float64"
      ]
     },
     "execution_count": 169,
     "metadata": {},
     "output_type": "execute_result"
    }
   ],
   "source": [
    "#filter out people making >50k\n",
    "people_making_50Kup = df[df['salary'] == '>50K']\n",
    "\n",
    "# we gonna exclude '?' that is been represented as a country.\n",
    "percentagePeople = people_making_50Kup[people_making_50Kup['native-country'] != '?']\n",
    "# count occurances per country\n",
    "highest_percentage = ((percentagePeople.groupby('native-country')['native-country'].value_counts().sort_values(ascending=False)) / len(people_making_50Kup)) *100\n",
    "highest_percentage ## The country with the highest percentage is United-States"
   ]
  },
  {
   "cell_type": "markdown",
   "id": "01317f67-9822-4d0c-9b66-c0a41dd4861e",
   "metadata": {
    "jp-MarkdownHeadingCollapsed": true
   },
   "source": [
    "### Identify the most popular occupation for those who earn >50K in India"
   ]
  },
  {
   "cell_type": "code",
   "execution_count": 202,
   "id": "d892e63f-dd09-40a4-8bb3-bdf70ab1ed09",
   "metadata": {},
   "outputs": [
    {
     "data": {
      "image/png": "[encoded data removed]",
      "text/plain": [
       "<Figure size 1200x600 with 1 Axes>"
      ]
     },
     "metadata": {},
     "output_type": "display_data"
    }
   ],
   "source": [
    "# filter out indians earning >50k\n",
    "indian_earning_50k = df[(df['native-country'] == 'India') & (df['salary'] == '>50K')]\n",
    "most_popular_occupations = indian_earning_50k.groupby('occupation')['occupation'].value_counts().sort_values(ascending=False)\n",
    "most_popular_occupations.to_frame()\n",
    "most_popular_occupations = most_popular_occupations.reset_index()\n",
    "most_popular_occupations\n",
    "\n",
    "# lets plot this out\n",
    "plt.figure(figsize=(12,6))\n",
    "sns.barplot(most_popular_occupations, x='occupation', y='count', hue='occupation')\n",
    "plt.title(\"Most popular occupations for those who earn >50K in India\")\n",
    "plt.show()"
   ]
  },
  {
   "cell_type": "code",
   "execution_count": 206,
   "id": "11e68eb7-3553-40a1-81d7-49c77af82975",
   "metadata": {},
   "outputs": [
    {
     "data": {
      "text/plain": [
       "occupation\n",
       "Prof-specialty      62.5\n",
       "Exec-managerial     20.0\n",
       "Other-service        5.0\n",
       "Tech-support         5.0\n",
       "Adm-clerical         2.5\n",
       "Sales                2.5\n",
       "Transport-moving     2.5\n",
       "Name: count, dtype: float64"
      ]
     },
     "execution_count": 206,
     "metadata": {},
     "output_type": "execute_result"
    }
   ],
   "source": [
    "# Identify the most popular occupation for those who earn >50K in India in % \n",
    "popular_occupations = indian_earning_50k.groupby('occupation')['occupation'].value_counts().sort_values(ascending=False)\n",
    "\n",
    "(popular_occupations / len(indian_earning_50k) ) * 100"
   ]
  }
 ],
 "metadata": {
  "kernelspec": {
   "display_name": "Python 3 (ipykernel)",
   "language": "python",
   "name": "python3"
  },
  "language_info": {
   "codemirror_mode": {
    "name": "ipython",
    "version": 3
   },
   "file_extension": ".py",
   "mimetype": "text/x-python",
   "name": "python",
   "nbconvert_exporter": "python",
   "pygments_lexer": "ipython3",
   "version": "3.12.0"
  }
 },
 "nbformat": 4,
 "nbformat_minor": 5
}
